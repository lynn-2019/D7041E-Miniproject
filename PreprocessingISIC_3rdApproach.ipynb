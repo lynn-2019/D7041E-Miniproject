{
 "cells": [
  {
   "cell_type": "markdown",
   "id": "d087925e-e8d8-4e71-9489-8d9a68ac9324",
   "metadata": {},
   "source": [
    "# Preprocessing ISIC Dataset\n",
    "## 1. Training Data\n",
    "### 1.1. Imports and load ground truth "
   ]
  },
  {
   "cell_type": "code",
   "execution_count": 1,
   "id": "6c17fb2c-ee77-4d5b-90d9-3ee2ed4d2570",
   "metadata": {},
   "outputs": [
    {
     "data": {
      "text/html": [
       "<div>\n",
       "<style scoped>\n",
       "    .dataframe tbody tr th:only-of-type {\n",
       "        vertical-align: middle;\n",
       "    }\n",
       "\n",
       "    .dataframe tbody tr th {\n",
       "        vertical-align: top;\n",
       "    }\n",
       "\n",
       "    .dataframe thead th {\n",
       "        text-align: right;\n",
       "    }\n",
       "</style>\n",
       "<table border=\"1\" class=\"dataframe\">\n",
       "  <thead>\n",
       "    <tr style=\"text-align: right;\">\n",
       "      <th></th>\n",
       "      <th>image</th>\n",
       "      <th>MEL</th>\n",
       "      <th>NV</th>\n",
       "      <th>BCC</th>\n",
       "      <th>AKIEC</th>\n",
       "      <th>BKL</th>\n",
       "      <th>DF</th>\n",
       "      <th>VASC</th>\n",
       "    </tr>\n",
       "  </thead>\n",
       "  <tbody>\n",
       "    <tr>\n",
       "      <th>0</th>\n",
       "      <td>ISIC_0024306</td>\n",
       "      <td>0.0</td>\n",
       "      <td>1.0</td>\n",
       "      <td>0.0</td>\n",
       "      <td>0.0</td>\n",
       "      <td>0.0</td>\n",
       "      <td>0.0</td>\n",
       "      <td>0.0</td>\n",
       "    </tr>\n",
       "    <tr>\n",
       "      <th>1</th>\n",
       "      <td>ISIC_0024307</td>\n",
       "      <td>0.0</td>\n",
       "      <td>1.0</td>\n",
       "      <td>0.0</td>\n",
       "      <td>0.0</td>\n",
       "      <td>0.0</td>\n",
       "      <td>0.0</td>\n",
       "      <td>0.0</td>\n",
       "    </tr>\n",
       "    <tr>\n",
       "      <th>2</th>\n",
       "      <td>ISIC_0024308</td>\n",
       "      <td>0.0</td>\n",
       "      <td>1.0</td>\n",
       "      <td>0.0</td>\n",
       "      <td>0.0</td>\n",
       "      <td>0.0</td>\n",
       "      <td>0.0</td>\n",
       "      <td>0.0</td>\n",
       "    </tr>\n",
       "    <tr>\n",
       "      <th>3</th>\n",
       "      <td>ISIC_0024309</td>\n",
       "      <td>0.0</td>\n",
       "      <td>1.0</td>\n",
       "      <td>0.0</td>\n",
       "      <td>0.0</td>\n",
       "      <td>0.0</td>\n",
       "      <td>0.0</td>\n",
       "      <td>0.0</td>\n",
       "    </tr>\n",
       "    <tr>\n",
       "      <th>4</th>\n",
       "      <td>ISIC_0024310</td>\n",
       "      <td>1.0</td>\n",
       "      <td>0.0</td>\n",
       "      <td>0.0</td>\n",
       "      <td>0.0</td>\n",
       "      <td>0.0</td>\n",
       "      <td>0.0</td>\n",
       "      <td>0.0</td>\n",
       "    </tr>\n",
       "  </tbody>\n",
       "</table>\n",
       "</div>"
      ],
      "text/plain": [
       "          image  MEL   NV  BCC  AKIEC  BKL   DF  VASC\n",
       "0  ISIC_0024306  0.0  1.0  0.0    0.0  0.0  0.0   0.0\n",
       "1  ISIC_0024307  0.0  1.0  0.0    0.0  0.0  0.0   0.0\n",
       "2  ISIC_0024308  0.0  1.0  0.0    0.0  0.0  0.0   0.0\n",
       "3  ISIC_0024309  0.0  1.0  0.0    0.0  0.0  0.0   0.0\n",
       "4  ISIC_0024310  1.0  0.0  0.0    0.0  0.0  0.0   0.0"
      ]
     },
     "execution_count": 1,
     "metadata": {},
     "output_type": "execute_result"
    }
   ],
   "source": [
    "import numpy as np\n",
    "import pandas as pd\n",
    "from PIL import Image\n",
    "import os\n",
    "from matplotlib import pyplot as plt\n",
    "\n",
    "\n",
    "# Load ground truth\n",
    "gt=pd.read_csv('ISIC2018_Task3_Training_GroundTruth.csv')\n",
    "\n",
    "gt.head()"
   ]
  },
  {
   "cell_type": "code",
   "execution_count": 2,
   "id": "82769974-26c1-44b8-81d8-54777e0f2ef3",
   "metadata": {},
   "outputs": [
    {
     "data": {
      "text/plain": [
       "0     2\n",
       "1     2\n",
       "2     2\n",
       "3     2\n",
       "4     1\n",
       "5     2\n",
       "6     5\n",
       "7     1\n",
       "8     2\n",
       "9     1\n",
       "10    2\n",
       "11    2\n",
       "12    6\n",
       "13    2\n",
       "14    2\n",
       "15    2\n",
       "16    2\n",
       "17    1\n",
       "18    5\n",
       "19    2\n",
       "dtype: int32"
      ]
     },
     "execution_count": 2,
     "metadata": {},
     "output_type": "execute_result"
    }
   ],
   "source": [
    "#Convert csv to one array (ToDo: check conversion to numpy array and save the classes\n",
    "Ytrain=gt['MEL']+ 2*gt['NV'] + 3*gt['BCC'] + 4*gt['AKIEC'] + 5*gt['BKL'] + 6*gt['DF'] + 7*gt['VASC']\n",
    "Ytrain = Ytrain.astype(int)\n",
    "Ytrain[0:20]"
   ]
  },
  {
   "cell_type": "code",
   "execution_count": 3,
   "id": "1b434d68",
   "metadata": {},
   "outputs": [
    {
     "name": "stdout",
     "output_type": "stream",
     "text": [
      "[1113 6705  514  327 1099  115  142]\n",
      "Least represented value: 6 with 115 representations\n",
      "805 images left.\n"
     ]
    }
   ],
   "source": [
    "def reduceDataset(Y,img_names, numClasses):\n",
    "    counts = np.bincount(Y)\n",
    "    counts= np.delete(counts, 0)\n",
    "    print(counts)\n",
    "\n",
    "    rare_value = np.argmin(counts)\n",
    "    num_representations = counts[rare_value]\n",
    "\n",
    "    print(\"Least represented value:\", rare_value+1, \"with\",num_representations , \"representations\")\n",
    "\n",
    "    \n",
    "    counter = np.zeros((numClasses))\n",
    "    img_index =  []\n",
    "    newY=[]\n",
    "    for index, elem in enumerate(Y):\n",
    "        x = int(elem) -1\n",
    "        if counter[x]< num_representations:\n",
    "            img_index = np.append(img_index, (img_names[index] + \".jpg\"))\n",
    "            counter[x]+=1\n",
    "            newY = np.append(newY, elem)\n",
    "        if sum(counter)>= numClasses*num_representations:\n",
    "            break\n",
    "    print(img_index.size, \"images left.\")\n",
    "    return img_index, newY\n",
    "\n",
    "img_names = gt['image']\n",
    "\n",
    "train_index, Ytrain = reduceDataset(Ytrain, img_names,7)"
   ]
  },
  {
   "cell_type": "markdown",
   "id": "06b380bf-2e42-4418-8aab-7591992c4b64",
   "metadata": {},
   "source": [
    "### 1.2. Load data "
   ]
  },
  {
   "cell_type": "code",
   "execution_count": 48,
   "id": "67174926-eee4-45e3-b4e6-5791ffab6ccf",
   "metadata": {},
   "outputs": [
    {
     "data": {
      "text/plain": [
       "(805, 90, 120)"
      ]
     },
     "execution_count": 48,
     "metadata": {},
     "output_type": "execute_result"
    }
   ],
   "source": [
    "import cv2\n",
    "\n",
    "def loadPics(directory, x, y, index):\n",
    "    data = []\n",
    "    # Iterate through files in the specified directory\n",
    "    for file in os.listdir(directory):\n",
    "         # Check if the file is from type \".jpg\"\n",
    "         if file.endswith(\".jpg\") and file in index:\n",
    "             #Take the image, resize it, covert it into an numpy array and append it to our data list\n",
    "             img = Image.open(os.path.join(directory, file))\n",
    "             img = img.resize((x,y))\n",
    "             img = img.convert('L')\n",
    "             imgArray = np.array(img)\n",
    "             imgArray = cv2.equalizeHist(imgArray)\n",
    "             _, thresholded_image = cv2.threshold(imgArray, 0, 255, cv2.THRESH_BINARY + cv2.THRESH_OTSU)\n",
    "             #imgArray = cv2.medianBlur(imgArray, ksize=5)\n",
    "             data.append(thresholded_image)\n",
    "\n",
    "    #Convert data list to np array\n",
    "    data = np.array(data)\n",
    "    return data\n",
    "\n",
    "data1 = loadPics(\"ISIC2018_Task3_Training_Input\", 120,90, train_index)\n",
    "#Check the shape of our numpy data array\n",
    "data1.shape"
   ]
  },
  {
   "cell_type": "code",
   "execution_count": 49,
   "id": "48099224",
   "metadata": {},
   "outputs": [
    {
     "ename": "KeyboardInterrupt",
     "evalue": "",
     "output_type": "error",
     "traceback": [
      "\u001b[1;31m---------------------------------------------------------------------------\u001b[0m",
      "\u001b[1;31mKeyboardInterrupt\u001b[0m                         Traceback (most recent call last)",
      "Cell \u001b[1;32mIn[49], line 6\u001b[0m\n\u001b[0;32m      4\u001b[0m     _, thresholded_image \u001b[38;5;241m=\u001b[39m cv2\u001b[38;5;241m.\u001b[39mthreshold(img, \u001b[38;5;241m0\u001b[39m, \u001b[38;5;241m255\u001b[39m, cv2\u001b[38;5;241m.\u001b[39mTHRESH_BINARY \u001b[38;5;241m+\u001b[39m cv2\u001b[38;5;241m.\u001b[39mTHRESH_OTSU)\n\u001b[0;32m      5\u001b[0m     imgArray \u001b[38;5;241m=\u001b[39m np\u001b[38;5;241m.\u001b[39marray(thresholded_image)\n\u001b[1;32m----> 6\u001b[0m     otsuImages \u001b[38;5;241m=\u001b[39m \u001b[43mnp\u001b[49m\u001b[38;5;241;43m.\u001b[39;49m\u001b[43mappend\u001b[49m\u001b[43m(\u001b[49m\u001b[43motsuImages\u001b[49m\u001b[43m,\u001b[49m\u001b[43m \u001b[49m\u001b[43mimgArray\u001b[49m\u001b[43m)\u001b[49m\n\u001b[0;32m      8\u001b[0m otsuImages\u001b[38;5;241m.\u001b[39mshape\n",
      "File \u001b[1;32mc:\\Users\\Acer\\AppData\\Local\\Programs\\Python\\Python39\\lib\\site-packages\\numpy\\lib\\function_base.py:5617\u001b[0m, in \u001b[0;36mappend\u001b[1;34m(arr, values, axis)\u001b[0m\n\u001b[0;32m   5615\u001b[0m     values \u001b[38;5;241m=\u001b[39m ravel(values)\n\u001b[0;32m   5616\u001b[0m     axis \u001b[38;5;241m=\u001b[39m arr\u001b[38;5;241m.\u001b[39mndim\u001b[38;5;241m-\u001b[39m\u001b[38;5;241m1\u001b[39m\n\u001b[1;32m-> 5617\u001b[0m \u001b[38;5;28;01mreturn\u001b[39;00m \u001b[43mconcatenate\u001b[49m\u001b[43m(\u001b[49m\u001b[43m(\u001b[49m\u001b[43marr\u001b[49m\u001b[43m,\u001b[49m\u001b[43m \u001b[49m\u001b[43mvalues\u001b[49m\u001b[43m)\u001b[49m\u001b[43m,\u001b[49m\u001b[43m \u001b[49m\u001b[43maxis\u001b[49m\u001b[38;5;241;43m=\u001b[39;49m\u001b[43maxis\u001b[49m\u001b[43m)\u001b[49m\n",
      "\u001b[1;31mKeyboardInterrupt\u001b[0m: "
     ]
    }
   ],
   "source": [
    "otsuImages =[]\n",
    "for i in range(805):\n",
    "    img = data1[i, :]\n",
    "    _, thresholded_image = cv2.threshold(img, 0, 255, cv2.THRESH_BINARY + cv2.THRESH_OTSU)\n",
    "    imgArray = np.array(thresholded_image)\n",
    "    otsuImages = np.append(otsuImages, imgArray)\n",
    "\n",
    "otsuImages.shape"
   ]
  },
  {
   "cell_type": "markdown",
   "id": "653117e3-cf8f-4789-b46d-ad33b2bf3dcc",
   "metadata": {},
   "source": [
    "### 1.3. Reshaping"
   ]
  },
  {
   "cell_type": "code",
   "execution_count": 50,
   "id": "1cb8e71c-0132-47d7-b10e-e7d7f3b67195",
   "metadata": {},
   "outputs": [
    {
     "data": {
      "text/plain": [
       "(805, 10800)"
      ]
     },
     "execution_count": 50,
     "metadata": {},
     "output_type": "execute_result"
    }
   ],
   "source": [
    "#Reshape data in order to have one image per row\n",
    "reshapeData = data1.reshape(data1.shape[0], data1.shape[1]*data1.shape[2])\n",
    "# Controll shape\n",
    "reshapeData.shape"
   ]
  },
  {
   "cell_type": "markdown",
   "id": "1606a896-2ce9-4e02-ae4e-b2d1099becf0",
   "metadata": {},
   "source": [
    "### 1.4. Normalization"
   ]
  },
  {
   "cell_type": "code",
   "execution_count": 51,
   "id": "180398e0-0539-44d1-8445-f191e3670ea7",
   "metadata": {},
   "outputs": [
    {
     "name": "stdout",
     "output_type": "stream",
     "text": [
      "normData.min() 0.0\n",
      "normData.max() 1.0\n"
     ]
    }
   ],
   "source": [
    "#Normalize data by dividing by the maximum value of the pixels (255)\n",
    "# Check if 255 is correct\n",
    "normData = reshapeData / 255.\n",
    "print('normData.min()', normData.min())\n",
    "print('normData.max()', normData.max())"
   ]
  },
  {
   "cell_type": "markdown",
   "id": "5f5a9a5b-2656-435b-b2cc-1c0d622dc9d1",
   "metadata": {},
   "source": [
    "### 1.5. Mean removal"
   ]
  },
  {
   "cell_type": "code",
   "execution_count": 52,
   "id": "03f5c12c-4916-4ba3-878a-72e3e49f5346",
   "metadata": {},
   "outputs": [
    {
     "data": {
      "text/plain": [
       "array([ 7.44745880e-17, -1.69912393e-16, -1.44535867e-16, ...,\n",
       "        5.59248989e-17,  8.84040943e-17, -1.20469542e-16])"
      ]
     },
     "execution_count": 52,
     "metadata": {},
     "output_type": "execute_result"
    }
   ],
   "source": [
    "#Remove the mean from each pixel\n",
    "normData = normData - normData.mean(axis=0)\n",
    "# Control if the means are now approx. 0\n",
    "normData.mean(axis=0)"
   ]
  },
  {
   "cell_type": "markdown",
   "id": "484ce30f-a71b-4efe-a547-ece623ec6311",
   "metadata": {},
   "source": [
    "### 1.6. Noise Reduction"
   ]
  },
  {
   "cell_type": "markdown",
   "id": "8b324607",
   "metadata": {},
   "source": [
    "### 1.7. Plot sample image"
   ]
  },
  {
   "cell_type": "code",
   "execution_count": 53,
   "id": "6e810a70-94b0-4d72-9358-010c614ab3dd",
   "metadata": {},
   "outputs": [
    {
     "data": {
      "image/png": "[encoded data removed]",
      "text/plain": [
       "<Figure size 640x480 with 1 Axes>"
      ]
     },
     "metadata": {},
     "output_type": "display_data"
    },
    {
     "data": {
      "image/png": "[encoded data removed]",
      "text/plain": [
       "<Figure size 640x480 with 1 Axes>"
      ]
     },
     "metadata": {},
     "output_type": "display_data"
    }
   ],
   "source": [
    "Xtrain = normData\n",
    "#Function which takes a image of shape (1,4830) and plots it\n",
    "x = 120\n",
    "y = 90\n",
    "def plotImage(X):\n",
    " plt.imshow(X.reshape(y,x))\n",
    " plt.show()\n",
    " plt.close()\n",
    "\n",
    "#Plot third image before and after whitening\n",
    "plotImage(reshapeData[2, :])\n",
    "plotImage(Xtrain[2, :])"
   ]
  },
  {
   "cell_type": "markdown",
   "id": "5a54d696",
   "metadata": {},
   "source": [
    "## 2. Test Data\n",
    "### 2.1. Imports and load ground truth"
   ]
  },
  {
   "cell_type": "code",
   "execution_count": 54,
   "id": "21acddf2-97f1-4041-80dc-dd2fffefab74",
   "metadata": {},
   "outputs": [],
   "source": [
    "# Load ground truth\n",
    "Ytest=pd.read_csv('ISIC2018_Task3_Test_GroundTruth.csv')\n",
    "test_names = Ytest['image']\n",
    "#Convert csv to one array (ToDo: check conversion to numpy array and save the classes\n",
    "Ytest=Ytest['MEL']+ 2*Ytest['NV'] + 3*Ytest['BCC'] + 4*Ytest['AKIEC'] + 5*Ytest['BKL'] + 6*Ytest['DF'] + 7*Ytest['VASC']\n",
    "Ytest = Ytest.astype(int)"
   ]
  },
  {
   "cell_type": "code",
   "execution_count": 55,
   "id": "f30a19de",
   "metadata": {},
   "outputs": [
    {
     "name": "stdout",
     "output_type": "stream",
     "text": [
      "[171 909  93  43 217  44  35]\n",
      "Least represented value: 7 with 35 representations\n",
      "245 images left.\n"
     ]
    }
   ],
   "source": [
    "test_index, Ytest = reduceDataset(Ytest, test_names,7)"
   ]
  },
  {
   "cell_type": "markdown",
   "id": "cb2c208a",
   "metadata": {},
   "source": [
    "### 2.2. Load data"
   ]
  },
  {
   "cell_type": "code",
   "execution_count": 63,
   "id": "6f845cd5-8430-4e29-9939-5a2840951fab",
   "metadata": {},
   "outputs": [
    {
     "data": {
      "text/plain": [
       "(245, 90, 120)"
      ]
     },
     "execution_count": 63,
     "metadata": {},
     "output_type": "execute_result"
    }
   ],
   "source": [
    "data2 = loadPics(\"ISIC2018_Task3_Test_Input\", 120,90, test_index)\n",
    "#Check the shape of our numpy data array\n",
    "data2.shape"
   ]
  },
  {
   "cell_type": "markdown",
   "id": "29b13db7",
   "metadata": {},
   "source": [
    "### 2.3. Reshaping"
   ]
  },
  {
   "cell_type": "code",
   "execution_count": 64,
   "id": "65a4ed0a-3c66-403d-8030-b564781b8984",
   "metadata": {},
   "outputs": [
    {
     "name": "stdout",
     "output_type": "stream",
     "text": [
      "(245, 10800)\n"
     ]
    }
   ],
   "source": [
    "#Reshape data in order to have one image per row\n",
    "reshapeData2 = data2.reshape(data2.shape[0], data2.shape[1]*data2.shape[2])\n",
    "# Controll shape\n",
    "print(reshapeData2.shape)"
   ]
  },
  {
   "cell_type": "markdown",
   "id": "4f8eab39",
   "metadata": {},
   "source": [
    "### 2.4. Normalization"
   ]
  },
  {
   "cell_type": "code",
   "execution_count": 65,
   "id": "baa30313-5d13-4a8d-8997-1d3d631320ba",
   "metadata": {},
   "outputs": [
    {
     "name": "stdout",
     "output_type": "stream",
     "text": [
      "normData2.min() 0.0\n",
      "normData2.max() 1.0\n"
     ]
    }
   ],
   "source": [
    "#Normalize data by dividing by the maximum value of the pixels (255)\n",
    "normData2 = reshapeData2 / 255\n",
    "print('normData2.min()', normData2.min())\n",
    "print('normData2.max()', normData2.max())"
   ]
  },
  {
   "cell_type": "markdown",
   "id": "a598b4ae",
   "metadata": {},
   "source": [
    "### 2.5. Mean Removal"
   ]
  },
  {
   "cell_type": "code",
   "execution_count": 66,
   "id": "10278386-338a-4bb4-a9ca-540c7e50289e",
   "metadata": {},
   "outputs": [
    {
     "name": "stdout",
     "output_type": "stream",
     "text": [
      "[ 2.13887864e-16 -1.37758286e-16 -6.43476202e-17 ...  6.16287067e-17\n",
      "  2.53765263e-17  0.00000000e+00]\n"
     ]
    }
   ],
   "source": [
    "#Remove the mean from each pixel\n",
    "normData2 = normData2 - normData2.mean(axis=0)\n",
    "# Control if the means are now approx. 0\n",
    "print(normData2.mean(axis=0))"
   ]
  },
  {
   "cell_type": "markdown",
   "id": "46fdff50",
   "metadata": {},
   "source": [
    "### 2.6. ZCA Whitening"
   ]
  },
  {
   "cell_type": "code",
   "execution_count": 19,
   "id": "25ea9ab2-1e07-4ef9-819f-20f289b4f346",
   "metadata": {},
   "outputs": [
    {
     "name": "stdout",
     "output_type": "stream",
     "text": [
      "(8100, 8100)\n",
      "min: 0.0\n",
      "max: 1.0\n"
     ]
    }
   ],
   "source": [
    "#Calculate the covariance matrix of the normalized data\n",
    "cov2 = np.cov(normData2, rowvar=False)\n",
    "# Control shape of covariance matrix\n",
    "print(cov2.shape)\n",
    "\n",
    "#Perform Singular Value Decomposition (SVD) on the covariance matrix 'cov'\n",
    "U2,S2,V2 = np.linalg.svd(cov2)\n",
    "#Set a small constant 'epsilon' to avoid division by zero in the next step\n",
    "epsilon = 0.1\n",
    "# Perform Zero-phase Component Analysis whitening on the normalized data\n",
    "DataZCA2 = U2.dot(np.diag(1.0/np.sqrt(S2 + epsilon))).dot(U2.T).dot(normData2.T).T\n",
    "#Rescale the ZCA-whitened data 'DataZCA' to the range [0, 1]\n",
    "DataZCA_rescaled2 = (DataZCA2 - DataZCA2.min()) / (DataZCA2.max() - DataZCA2.min())\n",
    "print('min:', DataZCA_rescaled2.min())\n",
    "print('max:', DataZCA_rescaled2.max())"
   ]
  },
  {
   "cell_type": "markdown",
   "id": "2e90858a",
   "metadata": {},
   "source": [
    "### 2.7. Plot sample image"
   ]
  },
  {
   "cell_type": "code",
   "execution_count": 67,
   "id": "48aec57e-4aae-438e-8261-5d26a84617a2",
   "metadata": {},
   "outputs": [
    {
     "data": {
      "image/png": "[encoded data removed]",
      "text/plain": [
       "<Figure size 640x480 with 1 Axes>"
      ]
     },
     "metadata": {},
     "output_type": "display_data"
    },
    {
     "data": {
      "image/png": "[encoded data removed]",
      "text/plain": [
       "<Figure size 640x480 with 1 Axes>"
      ]
     },
     "metadata": {},
     "output_type": "display_data"
    }
   ],
   "source": [
    "Xtest = normData2\n",
    "\n",
    "#Plot third image before and after whitening\n",
    "plotImage(data2[2, :])\n",
    "plotImage(Xtest[2, :])"
   ]
  },
  {
   "cell_type": "markdown",
   "id": "4e6abdf1",
   "metadata": {},
   "source": [
    "## 3. Save preprocessed data"
   ]
  },
  {
   "cell_type": "code",
   "execution_count": 68,
   "id": "9fcc256d-7673-4a29-918e-55b9bcec8aa4",
   "metadata": {},
   "outputs": [],
   "source": [
    "# Save the NumPy array to an npy file\n",
    "np.save('newTrainpics_preprocessed.npy', Xtrain)\n",
    "np.save('newTestpics_preprocessed.npy', Xtest)\n",
    "np.save('newTrainGT_preprocessed.npy', Ytrain)\n",
    "np.save('newTestGT_preprocessed.npy', Ytest)"
   ]
  },
  {
   "cell_type": "code",
   "execution_count": 25,
   "id": "3108f199-f888-4362-98a2-424a7caceedb",
   "metadata": {},
   "outputs": [
    {
     "data": {
      "text/plain": [
       "(805, 8100)"
      ]
     },
     "execution_count": 25,
     "metadata": {},
     "output_type": "execute_result"
    }
   ],
   "source": [
    "Xtrain.shape"
   ]
  }
 ],
 "metadata": {
  "kernelspec": {
   "display_name": "Python 3 (ipykernel)",
   "language": "python",
   "name": "python3"
  },
  "language_info": {
   "codemirror_mode": {
    "name": "ipython",
    "version": 3
   },
   "file_extension": ".py",
   "mimetype": "text/x-python",
   "name": "python",
   "nbconvert_exporter": "python",
   "pygments_lexer": "ipython3",
   "version": "3.9.11"
  }
 },
 "nbformat": 4,
 "nbformat_minor": 5
}
