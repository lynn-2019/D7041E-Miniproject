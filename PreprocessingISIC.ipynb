{
 "cells": [
  {
   "cell_type": "markdown",
   "id": "d087925e-e8d8-4e71-9489-8d9a68ac9324",
   "metadata": {},
   "source": [
    "# Preprocessing ISIC Dataset\n",
    "## 1. Training Data\n",
    "### 1.1. Imports and load ground truth "
   ]
  },
  {
   "cell_type": "code",
   "execution_count": 3,
   "id": "6c17fb2c-ee77-4d5b-90d9-3ee2ed4d2570",
   "metadata": {},
   "outputs": [
    {
     "data": {
      "text/html": [
       "<div>\n",
       "<style scoped>\n",
       "    .dataframe tbody tr th:only-of-type {\n",
       "        vertical-align: middle;\n",
       "    }\n",
       "\n",
       "    .dataframe tbody tr th {\n",
       "        vertical-align: top;\n",
       "    }\n",
       "\n",
       "    .dataframe thead th {\n",
       "        text-align: right;\n",
       "    }\n",
       "</style>\n",
       "<table border=\"1\" class=\"dataframe\">\n",
       "  <thead>\n",
       "    <tr style=\"text-align: right;\">\n",
       "      <th></th>\n",
       "      <th>image</th>\n",
       "      <th>MEL</th>\n",
       "      <th>NV</th>\n",
       "      <th>BCC</th>\n",
       "      <th>AKIEC</th>\n",
       "      <th>BKL</th>\n",
       "      <th>DF</th>\n",
       "      <th>VASC</th>\n",
       "    </tr>\n",
       "  </thead>\n",
       "  <tbody>\n",
       "    <tr>\n",
       "      <th>0</th>\n",
       "      <td>ISIC_0024306</td>\n",
       "      <td>0.0</td>\n",
       "      <td>1.0</td>\n",
       "      <td>0.0</td>\n",
       "      <td>0.0</td>\n",
       "      <td>0.0</td>\n",
       "      <td>0.0</td>\n",
       "      <td>0.0</td>\n",
       "    </tr>\n",
       "    <tr>\n",
       "      <th>1</th>\n",
       "      <td>ISIC_0024307</td>\n",
       "      <td>0.0</td>\n",
       "      <td>1.0</td>\n",
       "      <td>0.0</td>\n",
       "      <td>0.0</td>\n",
       "      <td>0.0</td>\n",
       "      <td>0.0</td>\n",
       "      <td>0.0</td>\n",
       "    </tr>\n",
       "    <tr>\n",
       "      <th>2</th>\n",
       "      <td>ISIC_0024308</td>\n",
       "      <td>0.0</td>\n",
       "      <td>1.0</td>\n",
       "      <td>0.0</td>\n",
       "      <td>0.0</td>\n",
       "      <td>0.0</td>\n",
       "      <td>0.0</td>\n",
       "      <td>0.0</td>\n",
       "    </tr>\n",
       "    <tr>\n",
       "      <th>3</th>\n",
       "      <td>ISIC_0024309</td>\n",
       "      <td>0.0</td>\n",
       "      <td>1.0</td>\n",
       "      <td>0.0</td>\n",
       "      <td>0.0</td>\n",
       "      <td>0.0</td>\n",
       "      <td>0.0</td>\n",
       "      <td>0.0</td>\n",
       "    </tr>\n",
       "    <tr>\n",
       "      <th>4</th>\n",
       "      <td>ISIC_0024310</td>\n",
       "      <td>1.0</td>\n",
       "      <td>0.0</td>\n",
       "      <td>0.0</td>\n",
       "      <td>0.0</td>\n",
       "      <td>0.0</td>\n",
       "      <td>0.0</td>\n",
       "      <td>0.0</td>\n",
       "    </tr>\n",
       "  </tbody>\n",
       "</table>\n",
       "</div>"
      ],
      "text/plain": [
       "          image  MEL   NV  BCC  AKIEC  BKL   DF  VASC\n",
       "0  ISIC_0024306  0.0  1.0  0.0    0.0  0.0  0.0   0.0\n",
       "1  ISIC_0024307  0.0  1.0  0.0    0.0  0.0  0.0   0.0\n",
       "2  ISIC_0024308  0.0  1.0  0.0    0.0  0.0  0.0   0.0\n",
       "3  ISIC_0024309  0.0  1.0  0.0    0.0  0.0  0.0   0.0\n",
       "4  ISIC_0024310  1.0  0.0  0.0    0.0  0.0  0.0   0.0"
      ]
     },
     "execution_count": 3,
     "metadata": {},
     "output_type": "execute_result"
    }
   ],
   "source": [
    "import numpy as np\n",
    "import pandas as pd\n",
    "from PIL import Image\n",
    "import os\n",
    "from matplotlib import pyplot as plt\n",
    "\n",
    "\n",
    "# Load ground truth\n",
    "gt=pd.read_csv('ISIC2018_Task3_Training_GroundTruth.csv')\n",
    "\n",
    "gt.head()"
   ]
  },
  {
   "cell_type": "code",
   "execution_count": 4,
   "id": "82769974-26c1-44b8-81d8-54777e0f2ef3",
   "metadata": {},
   "outputs": [
    {
     "data": {
      "text/plain": [
       "(10015,)"
      ]
     },
     "execution_count": 4,
     "metadata": {},
     "output_type": "execute_result"
    }
   ],
   "source": [
    "#Convert csv to one array (ToDo: check conversion to numpy array and save the classes\n",
    "Ytrain=gt['MEL']+ 2*gt['NV'] + 3*gt['BCC'] + 4*gt['AKIEC'] + 5*gt['BKL'] + 6*gt['DF'] + 7*gt['VASC']\n",
    "Ytrain.shape"
   ]
  },
  {
   "cell_type": "markdown",
   "id": "06b380bf-2e42-4418-8aab-7591992c4b64",
   "metadata": {},
   "source": [
    "### 1.2. Load data "
   ]
  },
  {
   "cell_type": "code",
   "execution_count": 5,
   "id": "67174926-eee4-45e3-b4e6-5791ffab6ccf",
   "metadata": {},
   "outputs": [
    {
     "data": {
      "text/plain": [
       "(10015, 45, 60, 3)"
      ]
     },
     "execution_count": 5,
     "metadata": {},
     "output_type": "execute_result"
    }
   ],
   "source": [
    "def loadPics(directory, x, y):\n",
    "    data = []\n",
    "    # Iterate through files in the specified directory\n",
    "    for file in os.listdir(directory):\n",
    "         # Check if the file is from type \".jpg\"\n",
    "         if file.endswith(\".jpg\"):\n",
    "             #Take the image, resize it, covert it into an numpy array and append it to our data list\n",
    "             img = Image.open(os.path.join(directory, file))\n",
    "             img = img.resize((x,y))\n",
    "             imgArray = np.array(img)\n",
    "             data.append(imgArray)\n",
    "\n",
    "    #Convert data list to np array\n",
    "    data = np.array(data)\n",
    "    return data\n",
    "\n",
    "data1 = loadPics(\"ISIC2018_Task3_Training_Input\", 60,45)\n",
    "#Check the shape of our numpy data array\n",
    "data1.shape"
   ]
  },
  {
   "cell_type": "markdown",
   "id": "653117e3-cf8f-4789-b46d-ad33b2bf3dcc",
   "metadata": {},
   "source": [
    "### 1.3. Reshaping"
   ]
  },
  {
   "cell_type": "code",
   "execution_count": 6,
   "id": "1cb8e71c-0132-47d7-b10e-e7d7f3b67195",
   "metadata": {},
   "outputs": [
    {
     "data": {
      "text/plain": [
       "(10015, 8100)"
      ]
     },
     "execution_count": 6,
     "metadata": {},
     "output_type": "execute_result"
    }
   ],
   "source": [
    "#Reshape data in order to have one image per row\n",
    "reshapeData = data1.reshape(data1.shape[0], data1.shape[1]*data1.shape[2]*data1.shape[3])\n",
    "# Controll shape\n",
    "reshapeData.shape"
   ]
  },
  {
   "cell_type": "markdown",
   "id": "1606a896-2ce9-4e02-ae4e-b2d1099becf0",
   "metadata": {},
   "source": [
    "### 1.4. Normalization"
   ]
  },
  {
   "cell_type": "code",
   "execution_count": 7,
   "id": "180398e0-0539-44d1-8445-f191e3670ea7",
   "metadata": {},
   "outputs": [
    {
     "name": "stdout",
     "output_type": "stream",
     "text": [
      "normData.min() 0.0\n",
      "normData.max() 1.0\n"
     ]
    }
   ],
   "source": [
    "#Normalize data by dividing by the maximum value of the pixels (255)\n",
    "# Check if 255 is correct\n",
    "normData = reshapeData / 255.\n",
    "print('normData.min()', normData.min())\n",
    "print('normData.max()', normData.max())"
   ]
  },
  {
   "cell_type": "markdown",
   "id": "5f5a9a5b-2656-435b-b2cc-1c0d622dc9d1",
   "metadata": {},
   "source": [
    "### 1.5. Mean removal"
   ]
  },
  {
   "cell_type": "code",
   "execution_count": 8,
   "id": "03f5c12c-4916-4ba3-878a-72e3e49f5346",
   "metadata": {},
   "outputs": [
    {
     "data": {
      "text/plain": [
       "array([-7.21956250e-14,  3.79947918e-16, -1.44493725e-14, ...,\n",
       "       -7.41491131e-14,  1.54741699e-15, -1.17042394e-14])"
      ]
     },
     "execution_count": 8,
     "metadata": {},
     "output_type": "execute_result"
    }
   ],
   "source": [
    "#Remove the mean from each pixel\n",
    "normData = normData - normData.mean(axis=0)\n",
    "# Control if the means are now approx. 0\n",
    "normData.mean(axis=0)"
   ]
  },
  {
   "cell_type": "code",
   "execution_count": 9,
   "id": "386a5dda-cf0d-453d-853c-51eae22639fd",
   "metadata": {},
   "outputs": [
    {
     "data": {
      "text/plain": [
       "(8100, 8100)"
      ]
     },
     "execution_count": 9,
     "metadata": {},
     "output_type": "execute_result"
    }
   ],
   "source": [
    "#Calculate the covariance matrix of the normalized data\n",
    "cov = np.cov(normData, rowvar=False)\n",
    "# Control shape of covariance matrix\n",
    "cov.shape"
   ]
  },
  {
   "cell_type": "markdown",
   "id": "484ce30f-a71b-4efe-a547-ece623ec6311",
   "metadata": {},
   "source": [
    "### 1.6. ZCA whitening"
   ]
  },
  {
   "cell_type": "code",
   "execution_count": 10,
   "id": "2e9bb05e-1bec-4f16-b0e7-6f84194865a3",
   "metadata": {},
   "outputs": [],
   "source": [
    "#Perform Singular Value Decomposition (SVD) on the covariance matrix 'cov'\n",
    "U,S,V = np.linalg.svd(cov)"
   ]
  },
  {
   "cell_type": "code",
   "execution_count": 11,
   "id": "5a7fa995-4ef3-4b17-b06c-b6ece9fe627a",
   "metadata": {},
   "outputs": [],
   "source": [
    "#Set a small constant 'epsilon' to avoid division by zero in the next step\n",
    "epsilon = 0.1\n",
    "# Perform Zero-phase Component Analysis whitening on the normalized data\n",
    "DataZCA = U.dot(np.diag(1.0/np.sqrt(S + epsilon))).dot(U.T).dot(normData.T).T"
   ]
  },
  {
   "cell_type": "code",
   "execution_count": 12,
   "id": "beaead41-5af4-4043-8f5a-a1cbfe7122dd",
   "metadata": {},
   "outputs": [
    {
     "name": "stdout",
     "output_type": "stream",
     "text": [
      "min: 0.0\n",
      "max: 1.0\n"
     ]
    }
   ],
   "source": [
    "#Rescale the ZCA-whitened data 'DataZCA' to the range [0, 1]\n",
    "DataZCA_rescaled = (DataZCA - DataZCA.min()) / (DataZCA.max() - DataZCA.min())\n",
    "print('min:', DataZCA_rescaled.min())\n",
    "print('max:', DataZCA_rescaled.max())"
   ]
  },
  {
   "cell_type": "markdown",
   "id": "8b324607",
   "metadata": {},
   "source": [
    "### 1.7. Plot sample image"
   ]
  },
  {
   "cell_type": "code",
   "execution_count": 13,
   "id": "6e810a70-94b0-4d72-9358-010c614ab3dd",
   "metadata": {},
   "outputs": [
    {
     "data": {
      "image/png": "[encoded data removed]",
      "text/plain": [
       "<Figure size 640x480 with 1 Axes>"
      ]
     },
     "metadata": {},
     "output_type": "display_data"
    },
    {
     "data": {
      "image/png": "[encoded data removed]",
      "text/plain": [
       "<Figure size 640x480 with 1 Axes>"
      ]
     },
     "metadata": {},
     "output_type": "display_data"
    }
   ],
   "source": [
    "Xtrain = DataZCA_rescaled\n",
    "#Function which takes a image of shape (1,4830) and plots it\n",
    "x = 60\n",
    "y = 45\n",
    "def plotImage(X):\n",
    " plt.imshow(X.reshape(y,x,3))\n",
    " plt.show()\n",
    " plt.close()\n",
    "\n",
    "#Plot third image before and after whitening\n",
    "plotImage(reshapeData[2, :])\n",
    "plotImage(Xtrain[2, :])"
   ]
  },
  {
   "cell_type": "markdown",
   "id": "5a54d696",
   "metadata": {},
   "source": [
    "## 2. Test Data\n",
    "### 2.1. Imports and load ground truth"
   ]
  },
  {
   "cell_type": "code",
   "execution_count": 14,
   "id": "21acddf2-97f1-4041-80dc-dd2fffefab74",
   "metadata": {},
   "outputs": [],
   "source": [
    "# Load ground truth\n",
    "Ytest=pd.read_csv('ISIC2018_Task3_Test_GroundTruth.csv')\n",
    "#Convert csv to one array (ToDo: check conversion to numpy array and save the classes\n",
    "Ytest=Ytest['MEL']+ 2*Ytest['NV'] + 3*Ytest['BCC'] + 4*Ytest['AKIEC'] + 5*Ytest['BKL'] + 6*Ytest['DF'] + 7*Ytest['VASC']"
   ]
  },
  {
   "cell_type": "markdown",
   "id": "cb2c208a",
   "metadata": {},
   "source": [
    "### 2.2. Load data"
   ]
  },
  {
   "cell_type": "code",
   "execution_count": 15,
   "id": "6f845cd5-8430-4e29-9939-5a2840951fab",
   "metadata": {},
   "outputs": [
    {
     "data": {
      "text/plain": [
       "(1512, 45, 60, 3)"
      ]
     },
     "execution_count": 15,
     "metadata": {},
     "output_type": "execute_result"
    }
   ],
   "source": [
    "data2 = loadPics(\"ISIC2018_Task3_Test_Input\", 60,45)\n",
    "#Check the shape of our numpy data array\n",
    "data2.shape"
   ]
  },
  {
   "cell_type": "markdown",
   "id": "29b13db7",
   "metadata": {},
   "source": [
    "### 2.3. Reshaping"
   ]
  },
  {
   "cell_type": "code",
   "execution_count": 16,
   "id": "65a4ed0a-3c66-403d-8030-b564781b8984",
   "metadata": {},
   "outputs": [
    {
     "name": "stdout",
     "output_type": "stream",
     "text": [
      "(1512, 8100)\n"
     ]
    }
   ],
   "source": [
    "#Reshape data in order to have one image per row\n",
    "reshapeData2 = data2.reshape(data2.shape[0], data2.shape[1]*data2.shape[2]*data2.shape[3])\n",
    "# Controll shape\n",
    "print(reshapeData2.shape)"
   ]
  },
  {
   "cell_type": "markdown",
   "id": "4f8eab39",
   "metadata": {},
   "source": [
    "### 2.4. Normalization"
   ]
  },
  {
   "cell_type": "code",
   "execution_count": 17,
   "id": "baa30313-5d13-4a8d-8997-1d3d631320ba",
   "metadata": {},
   "outputs": [
    {
     "name": "stdout",
     "output_type": "stream",
     "text": [
      "normData2.min() 0.0\n",
      "normData2.max() 1.0\n"
     ]
    }
   ],
   "source": [
    "#Normalize data by dividing by the maximum value of the pixels (255)\n",
    "normData2 = reshapeData2 / 255\n",
    "print('normData2.min()', normData2.min())\n",
    "print('normData2.max()', normData2.max())"
   ]
  },
  {
   "cell_type": "markdown",
   "id": "a598b4ae",
   "metadata": {},
   "source": [
    "### 2.5. Mean Removal"
   ]
  },
  {
   "cell_type": "code",
   "execution_count": 18,
   "id": "10278386-338a-4bb4-a9ca-540c7e50289e",
   "metadata": {},
   "outputs": [
    {
     "name": "stdout",
     "output_type": "stream",
     "text": [
      "[ 1.55482623e-15 -6.25712004e-16  9.63221272e-16 ...  5.26254525e-16\n",
      " -3.29065111e-16 -2.82585536e-16]\n"
     ]
    }
   ],
   "source": [
    "#Remove the mean from each pixel\n",
    "normData2 = normData2 - normData2.mean(axis=0)\n",
    "# Control if the means are now approx. 0\n",
    "print(normData2.mean(axis=0))"
   ]
  },
  {
   "cell_type": "markdown",
   "id": "46fdff50",
   "metadata": {},
   "source": [
    "### 2.6. ZCA Whitening"
   ]
  },
  {
   "cell_type": "code",
   "execution_count": 19,
   "id": "25ea9ab2-1e07-4ef9-819f-20f289b4f346",
   "metadata": {},
   "outputs": [
    {
     "name": "stdout",
     "output_type": "stream",
     "text": [
      "(8100, 8100)\n",
      "min: 0.0\n",
      "max: 1.0\n"
     ]
    }
   ],
   "source": [
    "#Calculate the covariance matrix of the normalized data\n",
    "cov2 = np.cov(normData2, rowvar=False)\n",
    "# Control shape of covariance matrix\n",
    "print(cov2.shape)\n",
    "\n",
    "#Perform Singular Value Decomposition (SVD) on the covariance matrix 'cov'\n",
    "U2,S2,V2 = np.linalg.svd(cov2)\n",
    "#Set a small constant 'epsilon' to avoid division by zero in the next step\n",
    "epsilon = 0.1\n",
    "# Perform Zero-phase Component Analysis whitening on the normalized data\n",
    "DataZCA2 = U2.dot(np.diag(1.0/np.sqrt(S2 + epsilon))).dot(U2.T).dot(normData2.T).T\n",
    "#Rescale the ZCA-whitened data 'DataZCA' to the range [0, 1]\n",
    "DataZCA_rescaled2 = (DataZCA2 - DataZCA2.min()) / (DataZCA2.max() - DataZCA2.min())\n",
    "print('min:', DataZCA_rescaled2.min())\n",
    "print('max:', DataZCA_rescaled2.max())"
   ]
  },
  {
   "cell_type": "markdown",
   "id": "2e90858a",
   "metadata": {},
   "source": [
    "### 2.7. Plot sample image"
   ]
  },
  {
   "cell_type": "code",
   "execution_count": 20,
   "id": "48aec57e-4aae-438e-8261-5d26a84617a2",
   "metadata": {},
   "outputs": [
    {
     "data": {
      "image/png": "[encoded data removed]",
      "text/plain": [
       "<Figure size 640x480 with 1 Axes>"
      ]
     },
     "metadata": {},
     "output_type": "display_data"
    },
    {
     "data": {
      "image/png": "[encoded data removed]",
      "text/plain": [
       "<Figure size 640x480 with 1 Axes>"
      ]
     },
     "metadata": {},
     "output_type": "display_data"
    }
   ],
   "source": [
    "Xtest = DataZCA_rescaled2\n",
    "\n",
    "#Plot third image before and after whitening\n",
    "plotImage(reshapeData2[2, :])\n",
    "plotImage(Xtest[2, :])"
   ]
  },
  {
   "cell_type": "markdown",
   "id": "4e6abdf1",
   "metadata": {},
   "source": [
    "## 3. Save preprocessed data"
   ]
  },
  {
   "cell_type": "code",
   "execution_count": 21,
   "id": "9fcc256d-7673-4a29-918e-55b9bcec8aa4",
   "metadata": {},
   "outputs": [],
   "source": [
    "# Save the NumPy array to an npy file\n",
    "np.save('Trainpics_preprocessed.npy', Xtrain)\n",
    "np.save('Testpics_preprocessed.npy', Xtest)\n",
    "np.save('TrainGT_preprocessed.npy', Ytrain)\n",
    "np.save('TestGT_preprocessed.npy', Ytest)"
   ]
  },
  {
   "cell_type": "code",
   "execution_count": null,
   "id": "3108f199-f888-4362-98a2-424a7caceedb",
   "metadata": {},
   "outputs": [],
   "source": []
  }
 ],
 "metadata": {
  "kernelspec": {
   "display_name": "Python 3 (ipykernel)",
   "language": "python",
   "name": "python3"
  },
  "language_info": {
   "codemirror_mode": {
    "name": "ipython",
    "version": 3
   },
   "file_extension": ".py",
   "mimetype": "text/x-python",
   "name": "python",
   "nbconvert_exporter": "python",
   "pygments_lexer": "ipython3",
   "version": "3.10.13"
  }
 },
 "nbformat": 4,
 "nbformat_minor": 5
}
